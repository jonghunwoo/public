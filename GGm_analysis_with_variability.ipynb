{
 "cells": [
  {
   "cell_type": "code",
   "execution_count": 7,
   "metadata": {},
   "outputs": [],
   "source": [
    "import numpy as np"
   ]
  },
  {
   "cell_type": "code",
   "execution_count": 27,
   "metadata": {},
   "outputs": [],
   "source": [
    "TH = 2.4 #jobs/hour\n",
    "scva_1 = 1\n",
    "\n",
    "#machine\n",
    "t0_1 = 19 #min\n",
    "scv0_1 = 0.25\n",
    "mf_1 = 48 * 60 #min\n",
    "mr_1 = 8 * 60 #min\n",
    "scvr_1 = 1 #exponential\n",
    "\n",
    "#M2\n",
    "t0_2 = 22 #min\n",
    "scv0_2 = 1\n",
    "mf_2 = 3.3 * 60 #min\n",
    "mr_2 = 10 #min\n",
    "scvr_2 = 1 #exponential\n",
    "\n",
    "#B\n",
    "B = 20"
   ]
  },
  {
   "cell_type": "code",
   "execution_count": 42,
   "metadata": {},
   "outputs": [],
   "source": [
    "def A(mr, mf):\n",
    "    return mf/(mf + mr)\n",
    "\n",
    "def te(t0, A):\n",
    "    return t0/A\n",
    "\n",
    "def u(TH, te):\n",
    "    return TH * (te/60)\n",
    "\n",
    "def scve(scv0, scvr, A, mr, t0):\n",
    "    return np.power(scv0,2) + (1+np.power(scvr,2)) * A*(1-A) * mr / t0\n",
    "\n",
    "def CTq(scva, scve, u, te):\n",
    "    return ((scva + scve)/2) * (u/(1-u)) * te\n",
    "\n",
    "def scvd(u, scve, scva):\n",
    "    return np.power(u,2) * scve + (1 - np.power(u,2)) * scva\n"
   ]
  },
  {
   "cell_type": "code",
   "execution_count": 47,
   "metadata": {},
   "outputs": [
    {
     "name": "stdout",
     "output_type": "stream",
     "text": [
      "te_1 is  22.166666666666668\n",
      "te_2 is  23.11111111111111\n",
      "WIPq_1 is  25.14403186274511\n",
      "WIPq_2 is  34.88584644880173\n",
      "CTq_1 is  628.6007965686277\n",
      "CTq_2 is  872.1461612200432\n",
      "WIPq_1 is  25.14403186274511\n",
      "WIPq_2 is  34.88584644880173\n"
     ]
    }
   ],
   "source": [
    "A_1 = A(mr_1, mf_1)\n",
    "te_1 = te(t0_1, A_1)\n",
    "u_1 = u(TH, te_1)\n",
    "\n",
    "A_2 = A(mr_2, mf_2)\n",
    "te_2 = te(t0_2, A_2)\n",
    "u_2 = u(TH, te_2)\n",
    "\n",
    "print(\"te_1 is \", te_1)\n",
    "print(\"te_2 is \", te_2)\n",
    "\n",
    "scve_1 = scve(scv0_1, scvr_1, A(mf_1, mr_1), mr_1, t0_1)\n",
    "CTq_1 = CTq(scva_1, scve_1, u_1, te_1)\n",
    "WIPq_1 = TH * CTq_1 / 60\n",
    "\n",
    "scvd_1 = scvd(u_1, scve_1, scva_1)\n",
    "scva_2 = scvd_1\n",
    "\n",
    "scve_2 = scve(scv0_2, scvr_2, A(mf_2, mr_2), mr_2, t0_2)\n",
    "CTq_2 = CTq(scva_2, scve_2, u_2, te_2)\n",
    "WIPq_2 = TH * CTq_2 / 60\n",
    "\n",
    "print(\"WIPq_1 is \", WIPq_1)\n",
    "print(\"WIPq_2 is \", WIPq_2)\n",
    "print(\"CTq_1 is \", CTq_1, \"min\")\n",
    "print(\"CTq_2 is \", CTq_2, \"min\")\n",
    "print(\"WIPq_1 is \", WIPq_1)\n",
    "print(\"WIPq_2 is \", WIPq_2)"
   ]
  },
  {
   "cell_type": "code",
   "execution_count": 41,
   "metadata": {},
   "outputs": [],
   "source": []
  },
  {
   "cell_type": "code",
   "execution_count": null,
   "metadata": {},
   "outputs": [],
   "source": []
  }
 ],
 "metadata": {
  "kernelspec": {
   "display_name": "Python 3",
   "language": "python",
   "name": "python3"
  },
  "language_info": {
   "codemirror_mode": {
    "name": "ipython",
    "version": 3
   },
   "file_extension": ".py",
   "mimetype": "text/x-python",
   "name": "python",
   "nbconvert_exporter": "python",
   "pygments_lexer": "ipython3",
   "version": "3.7.3"
  }
 },
 "nbformat": 4,
 "nbformat_minor": 2
}
