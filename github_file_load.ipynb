{
 "cells": [
  {
   "cell_type": "code",
   "execution_count": null,
   "metadata": {},
   "outputs": [],
   "source": [
    "import urllib.request\n",
    "import xlrd\n",
    "import csv\n",
    "import pandas as pd\n",
    "\n",
    "#urlretrieve를 이용하여 파일에 직접 저장\n",
    "url = \"https://raw.githubusercontent.com/jonghunwoo/public/master/spool_list.xlsx\"\n",
    "filename = \"spool_list.xlsx\"\n",
    "urllib.request.urlretrieve(url, filename)\n",
    "\n",
    "#uropen을 이용하여 메모리에 저장후 파일에 저장\n",
    "\"\"\"\n",
    "url = \"http://snowdeer.github.io/public/img/hello_page.jpg\"\n",
    "filename = \"snowdeer.jpg\"\n",
    "\n",
    "image = urllib.request.urlopen(url).read()\n",
    "\n",
    "with open(filename, mode=\"wb\") as f:\n",
    "    f.write(image)\n",
    "\"\"\"    \n",
    "\n",
    "#xls를 csv로 변환하는 함스\n",
    "def csv_from_excel():\n",
    "\n",
    "    wb = xlrd.open_workbook('spool_list.xlsx')\n",
    "    sh = wb.sheet_by_name('Sheet1')\n",
    "    csv_file = open('spool_list.csv', 'w')\n",
    "    wr = csv.writer(csv_file, quoting=csv.QUOTE_ALL)\n",
    "\n",
    "    for rownum in range(sh.nrows):\n",
    "        wr.writerow(sh.row_values(rownum))\n",
    "\n",
    "    csv_file.close()\n",
    "    \n",
    "csv_from_excel()\n",
    "\n",
    "data = pd.read_csv('spool_list.csv')\n"
   ]
  }
 ],
 "metadata": {
  "kernelspec": {
   "display_name": "Python 3",
   "language": "python",
   "name": "python3"
  },
  "language_info": {
   "codemirror_mode": {
    "name": "ipython",
    "version": 3
   },
   "file_extension": ".py",
   "mimetype": "text/x-python",
   "name": "python",
   "nbconvert_exporter": "python",
   "pygments_lexer": "ipython3",
   "version": "3.7.3"
  }
 },
 "nbformat": 4,
 "nbformat_minor": 2
}
