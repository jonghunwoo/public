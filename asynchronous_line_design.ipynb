{
 "cells": [
  {
   "cell_type": "code",
   "execution_count": 67,
   "metadata": {},
   "outputs": [],
   "source": [
    "import numpy as np\n",
    "\n",
    "#기본 가정\n",
    "B = 50 # batch size (EA/Batch)\n",
    "SHIFT = 8 # shift duration in hours\n",
    "TH_target_unit = 1000 # panels/shift duraton \n",
    "TH_target_batch = TH_tatget_unit/B/SHIFT # panels/shift duraton \n",
    "\n",
    "#공정 모델\n",
    "#[:,0] : part processing time (parts/hr)\n",
    "#[:,1] : CV of part processing time\n",
    "#[:,2] : unit price of facility\n",
    "#[:,3] : number of facility or process\n",
    "\n",
    "param_process = np.array([[42, 2, 50, 3],[42, 2, 50, 3], [25, 1, 100, 6], [50, 0.75, 20, 5]])"
   ]
  },
  {
   "cell_type": "code",
   "execution_count": 68,
   "metadata": {},
   "outputs": [],
   "source": [
    "# 각 공정의 단위 제품 effective time 계산\n",
    "te = np.zeros(4)\n",
    "te = 1/param_process[:, 0]\n",
    "\n",
    "#각 공정의 배치 제품 effective time 계산\n",
    "tb = np.zeros(4)\n",
    "tb = te * B\n",
    "\n",
    "#각 공정 생산 시간의 변동성 (SCV: Squared Coefficient of Variability)\n",
    "cb_2 = np.zeros(4)\n",
    "cb_2 = np.power(param_process[:, 1],2)/B\n",
    "\n",
    "#각 공정의 가동률 (utilization)\n",
    "u = np.zeros(4)\n",
    "u = TH_target_batch * tb / param_process[:, 3]"
   ]
  },
  {
   "cell_type": "code",
   "execution_count": 69,
   "metadata": {},
   "outputs": [],
   "source": [
    "ca_2 = np.zeros(4)\n",
    "cd_2 = np.zeros(4)\n",
    "\n",
    "#전 공정의 출발률 변동성(cd_2[i]) = 후 공정의 도착률 변동성(ca_2[i+1])\n",
    "cd_2[0] = 1 + (1-np.power(u[0],2))*(ca_2[0]-1) + (np.power(u[0],2)/np.sqrt(param_process[0,3])) * (cb_2[0]-1)\n",
    "ca_2[1] = cd_2[0]\n",
    "cd_2[1] = 1 + (1-np.power(u[1],2))*(ca_2[1]-1) + (np.power(u[1],2)/np.sqrt(param_process[1,3])) * (cb_2[1]-1)\n",
    "ca_2[2] = cd_2[1]\n",
    "cd_2[2] = 1 + (1-np.power(u[2],2))*(ca_2[2]-1) + (np.power(u[2],2)/np.sqrt(param_process[2,3])) * (cb_2[2]-1)\n",
    "ca_2[3] = cd_2[2]\n",
    "cd_2[3] = 1 + (1-np.power(u[3],2))*(ca_2[3]-1) + (np.power(u[3],2)/np.sqrt(param_process[3,3])) * (cb_2[3]-1)"
   ]
  },
  {
   "cell_type": "code",
   "execution_count": 70,
   "metadata": {},
   "outputs": [],
   "source": [
    "CT = np.zeros(4)\n",
    "\n",
    "CT = [(ca_2 + cb_2)/2] * np.power(u,np.sqrt(2*(param_process[:, 3]+1))-1)/(param_process[:, 3]*(1-u))* tb + tb"
   ]
  },
  {
   "cell_type": "code",
   "execution_count": 71,
   "metadata": {},
   "outputs": [],
   "source": [
    "CT_tot = np.sum(CT)"
   ]
  },
  {
   "cell_type": "code",
   "execution_count": 76,
   "metadata": {},
   "outputs": [],
   "source": [
    "WIP_q = (CT-tb)*TH_target_batch"
   ]
  },
  {
   "cell_type": "code",
   "execution_count": 77,
   "metadata": {},
   "outputs": [],
   "source": [
    "WIP_q = np.ceil(WIP_q)"
   ]
  },
  {
   "cell_type": "code",
   "execution_count": 78,
   "metadata": {},
   "outputs": [
    {
     "data": {
      "text/plain": [
       "array([[ 5., 34.,  1.,  1.]])"
      ]
     },
     "execution_count": 78,
     "metadata": {},
     "output_type": "execute_result"
    }
   ],
   "source": [
    "WIP_q"
   ]
  },
  {
   "cell_type": "raw",
   "metadata": {},
   "source": [
    "\n",
    "# This option is dominated by the previous one since it presents a higher CT and also a higher deployment cost. \n",
    "\n",
    "# However, final selection(s) must be assessed and validated through simulation.\n"
   ]
  }
 ],
 "metadata": {
  "kernelspec": {
   "display_name": "Python 3",
   "language": "python",
   "name": "python3"
  },
  "language_info": {
   "codemirror_mode": {
    "name": "ipython",
    "version": 3
   },
   "file_extension": ".py",
   "mimetype": "text/x-python",
   "name": "python",
   "nbconvert_exporter": "python",
   "pygments_lexer": "ipython3",
   "version": "3.7.3"
  }
 },
 "nbformat": 4,
 "nbformat_minor": 2
}
